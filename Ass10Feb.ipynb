{
 "cells": [
  {
   "cell_type": "code",
   "execution_count": 6,
   "id": "5d27dfad-9fff-40df-81ff-fe62b161d4c6",
   "metadata": {},
   "outputs": [],
   "source": [
    "             #QUESTION-1"
   ]
  },
  {
   "cell_type": "code",
   "execution_count": null,
   "id": "dd2cbc7e-1983-4b22-9aae-20c2d0267a7a",
   "metadata": {},
   "outputs": [],
   "source": [
    "Q1.Which function is used to open a file? What are the different modes of opening a file? Explain each mode\n",
    "of file opening?"
   ]
  },
  {
   "cell_type": "code",
   "execution_count": null,
   "id": "b6e0a21d-c956-41e5-89c4-f52726b4b507",
   "metadata": {},
   "outputs": [],
   "source": [
    "open() function is used for open a file and there are following modes of opening a file\n",
    "(1)'w'-This is used for open a file(if it is not Exit) in write mode and turncates the file if it exist\n",
    "(2)'a'-This is used for open a file(if it is  Exit then it will add the content in the same file at the end) \n",
    "(3)'r'-open a file for reading mode if it is not exist showing I/O error\n",
    "(4)'x'-open a file if it is not exist.if it is exist showing error "
   ]
  },
  {
   "cell_type": "code",
   "execution_count": null,
   "id": "4c24a5e0-3284-4e96-830a-819d3cf818c2",
   "metadata": {},
   "outputs": [],
   "source": [
    "        #QUESTION-2"
   ]
  },
  {
   "cell_type": "code",
   "execution_count": null,
   "id": "bc7d2b65-8daf-4e8a-bc0b-5d7219b9a493",
   "metadata": {},
   "outputs": [],
   "source": [
    "Q2. Why close() function is used? Why is it important to close a file?"
   ]
  },
  {
   "cell_type": "code",
   "execution_count": null,
   "id": "7cac6557-ddb2-44fe-a92e-534b6c60b76b",
   "metadata": {},
   "outputs": [],
   "source": [
    "The close() method closes an open file. You should always close your files.The close() method of a file\n",
    "object flushes any unwritten information and closes the file object, after which no more writing can be done."
   ]
  },
  {
   "cell_type": "code",
   "execution_count": null,
   "id": "52403b37-8fce-4495-89ce-dafa20ef802e",
   "metadata": {},
   "outputs": [],
   "source": [
    "       #QUESTION-3"
   ]
  },
  {
   "cell_type": "code",
   "execution_count": null,
   "id": "898c797a-715e-4cd1-90b8-954b888b2b61",
   "metadata": {},
   "outputs": [],
   "source": [
    "Q3. Write a python program to create a text file. Write ‘I want to become a Data Scientist’ in that file. Then \n",
    "close the file. Open this file and read the content of the file?"
   ]
  },
  {
   "cell_type": "code",
   "execution_count": 2,
   "id": "c713ee4a-5c8b-4d98-b5f9-d0d79e5665fa",
   "metadata": {},
   "outputs": [],
   "source": [
    "f=open(\"new.txt\",'w')\n",
    "f.write(\"I want to become a Data Scientist\")\n",
    "f.close()"
   ]
  },
  {
   "cell_type": "code",
   "execution_count": 3,
   "id": "5f9a1e9d-b7d4-417b-b436-e1e0b43635d7",
   "metadata": {},
   "outputs": [
    {
     "data": {
      "text/plain": [
       "'I want to become a Data Scientist'"
      ]
     },
     "execution_count": 3,
     "metadata": {},
     "output_type": "execute_result"
    }
   ],
   "source": [
    "f=open(\"new.txt\",'r')\n",
    "f.read()"
   ]
  },
  {
   "cell_type": "code",
   "execution_count": null,
   "id": "50170e2b-3bd2-41b8-a3db-1e7fd703400f",
   "metadata": {},
   "outputs": [],
   "source": [
    "      #QUESTION-4"
   ]
  },
  {
   "cell_type": "code",
   "execution_count": null,
   "id": "f97f1e44-6d68-45c0-88bb-74cce5942013",
   "metadata": {},
   "outputs": [],
   "source": [
    "Q4. Explain the following with python code: read(), readline() and readlines()?"
   ]
  },
  {
   "cell_type": "code",
   "execution_count": 20,
   "id": "40ff329f-31ff-492f-a7e2-6bb1cd8cfe2d",
   "metadata": {},
   "outputs": [],
   "source": [
    "read()-This is used for read bytes in the form of string in the file.\n",
    "readline()-This is used for read single line in the file.\n",
    "readlines()-This is used for read all lines in the file. "
   ]
  },
  {
   "cell_type": "code",
   "execution_count": null,
   "id": "0e3803e4-58fa-4e7a-9553-71edcaedde2f",
   "metadata": {},
   "outputs": [],
   "source": [
    "     #QUESTION-5"
   ]
  },
  {
   "cell_type": "code",
   "execution_count": null,
   "id": "675c632e-55f4-46d8-ba93-c0fe71dfb856",
   "metadata": {},
   "outputs": [],
   "source": [
    "Q5. Explain why with statement is used with open(). What is the advantage of using with statement and \n",
    "open() together?"
   ]
  },
  {
   "cell_type": "code",
   "execution_count": null,
   "id": "77de2115-b1b3-484a-85b0-40873508169d",
   "metadata": {},
   "outputs": [],
   "source": [
    "we use With statement beacause with statement is close the file without you telling it into.\n",
    "There are following advantage-\n",
    "If we open a file without with statement then user always want to use close() function for closing the file but\n",
    "if we use with statement with open function then the file closes without using close() function "
   ]
  },
  {
   "cell_type": "code",
   "execution_count": null,
   "id": "3d5b1fc5-217b-46bf-ae04-60280d733f04",
   "metadata": {},
   "outputs": [],
   "source": [
    "      #QUESTION-6"
   ]
  },
  {
   "cell_type": "code",
   "execution_count": null,
   "id": "bb203a5a-a745-41e2-aeac-d0bdd33db686",
   "metadata": {},
   "outputs": [],
   "source": [
    "Q6. Explain the write() and writelines() functions. Give a suitable example?"
   ]
  },
  {
   "cell_type": "code",
   "execution_count": null,
   "id": "a2d0ece8-0b70-469e-a615-987e658ed325",
   "metadata": {},
   "outputs": [],
   "source": [
    "write()-In this function we give the string as an argument\n",
    "writelines()-Here we give list/tupple/set as an argument for writing the test form data\n",
    "             in the  "
   ]
  },
  {
   "cell_type": "code",
   "execution_count": 23,
   "id": "f81ddd73-dc46-465b-ac49-f3757955e30d",
   "metadata": {},
   "outputs": [],
   "source": [
    "f=open(\"bet.txt\",'w')\n",
    "f.writelines([\"aviral\\n\",\"aditya\\n\",\"abhishek\\n\"])\n",
    "f.close()"
   ]
  },
  {
   "cell_type": "code",
   "execution_count": null,
   "id": "b28f8d54-2b65-4db8-b79f-78b70af28361",
   "metadata": {},
   "outputs": [],
   "source": [
    "    "
   ]
  }
 ],
 "metadata": {
  "kernelspec": {
   "display_name": "Python 3 (ipykernel)",
   "language": "python",
   "name": "python3"
  },
  "language_info": {
   "codemirror_mode": {
    "name": "ipython",
    "version": 3
   },
   "file_extension": ".py",
   "mimetype": "text/x-python",
   "name": "python",
   "nbconvert_exporter": "python",
   "pygments_lexer": "ipython3",
   "version": "3.10.6"
  }
 },
 "nbformat": 4,
 "nbformat_minor": 5
}
